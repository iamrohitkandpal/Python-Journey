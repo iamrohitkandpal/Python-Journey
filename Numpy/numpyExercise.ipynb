{
 "cells": [
  {
   "cell_type": "code",
   "execution_count": 15,
   "id": "5c37aa94-2b47-47cd-bc3d-5005722b11f0",
   "metadata": {
    "vscode": {
     "languageId": "python"
    }
   },
   "outputs": [],
   "source": [
    "import numpy as np"
   ]
  },
  {
   "cell_type": "markdown",
   "id": "1a0775b5",
   "metadata": {},
   "source": [
    "*****************************************\n",
    "**VALID SUDOKU**\n",
    "*****************************************"
   ]
  },
  {
   "cell_type": "code",
   "execution_count": 16,
   "id": "6334fdbd-3422-4ab5-948d-5088a0ad8ccd",
   "metadata": {},
   "outputs": [],
   "source": [
    "s = np.array([\n",
    "    [5, 3, 4, 6, 7, 8, 9, 1, 2],\n",
    "    [6, 7, 2, 1, 9, 5, 3, 4, 8],\n",
    "    [1, 9, 8, 3, 4, 2, 5, 6, 7],\n",
    "    \n",
    "    [8, 5, 9, 7, 6, 1, 4, 2, 3],\n",
    "    [4, 2, 6, 8, 5, 3, 7, 9, 1],\n",
    "    [7, 1, 3, 9, 2, 4, 8, 5, 6],\n",
    "    \n",
    "    [9, 6, 1, 5, 3, 7, 2, 8, 4],\n",
    "    [2, 8, 7, 4, 1, 9, 6, 3, 5],\n",
    "    [3, 4, 5, 2, 8, 6, 1, 7, 9]\n",
    "])"
   ]
  },
  {
   "cell_type": "code",
   "execution_count": 17,
   "id": "408faff4-a0f5-4098-9f5e-ddb5f91fc918",
   "metadata": {},
   "outputs": [
    {
     "data": {
      "text/plain": [
       "array([45, 45, 45, 45, 45, 45, 45, 45, 45])"
      ]
     },
     "execution_count": 17,
     "metadata": {},
     "output_type": "execute_result"
    }
   ],
   "source": [
    "np.sum(s, axis=0)"
   ]
  },
  {
   "cell_type": "code",
   "execution_count": 18,
   "id": "e50c0694-3b19-4d41-a97c-43f394ef11a5",
   "metadata": {},
   "outputs": [
    {
     "data": {
      "text/plain": [
       "array([45, 45, 45, 45, 45, 45, 45, 45, 45])"
      ]
     },
     "execution_count": 18,
     "metadata": {},
     "output_type": "execute_result"
    }
   ],
   "source": [
    "np.sum(s, axis=1)"
   ]
  },
  {
   "cell_type": "code",
   "execution_count": 87,
   "id": "e734da44-d99a-4380-93a0-e98f2f38058f",
   "metadata": {},
   "outputs": [
    {
     "name": "stdout",
     "output_type": "stream",
     "text": [
      "45\n",
      "45\n",
      "45\n",
      "45\n",
      "45\n",
      "45\n",
      "45\n",
      "45\n",
      "45\n"
     ]
    }
   ],
   "source": [
    "for i in range(0, 9, 3):\n",
    "    for j in range(0, 9, 3):\n",
    "        n = s[i:i+3, j:j+3]\n",
    "        print(n.sum())"
   ]
  },
  {
   "cell_type": "markdown",
   "id": "1c91375c",
   "metadata": {},
   "source": [
    "*****************************************\n",
    "**GENERAL QUESTIONS**\n",
    "*****************************************"
   ]
  },
  {
   "cell_type": "code",
   "execution_count": 174,
   "id": "d98a6d78-df03-408a-88d4-182be7273a02",
   "metadata": {},
   "outputs": [],
   "source": [
    "import numpy as np\n",
    "\n",
    "# Columns: [Age, Math Marks, Science Marks]\n",
    "data = np.array([\n",
    "    [18, 85, 78],   # Student 1\n",
    "    [19, 92, 88],   # Student 2\n",
    "    [17, 76, 95],   # Student 3\n",
    "    [18, 65, 70],   # Student 4\n",
    "    [20, 90, 85]    # Student 5\n",
    "])"
   ]
  },
  {
   "cell_type": "code",
   "execution_count": 175,
   "id": "438326d3-b5fb-4062-b424-47bd4b4fdddd",
   "metadata": {},
   "outputs": [
    {
     "name": "stdout",
     "output_type": "stream",
     "text": [
      "(5, 3)\n"
     ]
    }
   ],
   "source": [
    "#Get the shape of the matrix\n",
    "print(data.shape)"
   ]
  },
  {
   "cell_type": "code",
   "execution_count": 176,
   "id": "7fd6e63b-57bc-4adb-9cf4-4b9723f3a0bd",
   "metadata": {},
   "outputs": [
    {
     "name": "stdout",
     "output_type": "stream",
     "text": [
      "18.4\n"
     ]
    }
   ],
   "source": [
    "#Find the average age of students.\n",
    "print(data[:,0:1].mean())"
   ]
  },
  {
   "cell_type": "code",
   "execution_count": 177,
   "id": "331f7c21-e86a-4136-8787-7d71fb0f3088",
   "metadata": {},
   "outputs": [
    {
     "name": "stdout",
     "output_type": "stream",
     "text": [
      "[85 92 76 65 90]\n"
     ]
    }
   ],
   "source": [
    "#Extract Math marks of all students.\n",
    "print(data[:,1])"
   ]
  },
  {
   "cell_type": "code",
   "execution_count": 178,
   "id": "cb48a6de-67f3-4822-8635-3a0b050d18c1",
   "metadata": {},
   "outputs": [
    {
     "name": "stdout",
     "output_type": "stream",
     "text": [
      "95\n"
     ]
    }
   ],
   "source": [
    "#Find the highest Science mark.\n",
    "print(data[:, 2:].max())"
   ]
  },
  {
   "cell_type": "code",
   "execution_count": 179,
   "id": "f9ba279c-f388-4ca0-9273-376b50adccec",
   "metadata": {},
   "outputs": [
    {
     "name": "stdout",
     "output_type": "stream",
     "text": [
      "[[19 92 88]]\n"
     ]
    }
   ],
   "source": [
    "#Get details of the student who scored more than 90 in Math.\n",
    "print(data[data[:,1] > 90])"
   ]
  },
  {
   "cell_type": "code",
   "execution_count": 180,
   "id": "759fa074-cb63-4352-a8e9-8911d0ba6182",
   "metadata": {},
   "outputs": [
    {
     "name": "stdout",
     "output_type": "stream",
     "text": [
      "[90 97 81 70 95]\n"
     ]
    }
   ],
   "source": [
    "#Increase Math marks of all students by 5.\n",
    "print(data[:,1] + 5)"
   ]
  },
  {
   "cell_type": "code",
   "execution_count": 181,
   "id": "e94a0e59-b5c6-4765-a2c3-ca7f09d7b27d",
   "metadata": {},
   "outputs": [
    {
     "name": "stdout",
     "output_type": "stream",
     "text": [
      "3\n"
     ]
    }
   ],
   "source": [
    "#Find how many students are younger than 19.\n",
    "print(len(data[data[:,0] < 19]))"
   ]
  },
  {
   "cell_type": "code",
   "execution_count": 182,
   "id": "c8a1d735-8f96-4d5e-abef-653ccc766c36",
   "metadata": {},
   "outputs": [
    {
     "data": {
      "text/plain": [
       "array([81.6, 83.2])"
      ]
     },
     "execution_count": 182,
     "metadata": {},
     "output_type": "execute_result"
    }
   ],
   "source": [
    "#Calculate the average marks in each subject (column-wise mean).\n",
    "np.mean(data[:,1:], axis=0)"
   ]
  },
  {
   "cell_type": "code",
   "execution_count": 183,
   "id": "1d337416-f718-466b-8004-c1d175792ba6",
   "metadata": {},
   "outputs": [
    {
     "name": "stdout",
     "output_type": "stream",
     "text": [
      "[[19 92 88]\n",
      " [20 90 85]]\n"
     ]
    }
   ],
   "source": [
    "#Get data of students who scored at least 80 in both subjects.\n",
    "print(data[(data[:,1] >= 80) & (data[:,2] >= 80)])"
   ]
  },
  {
   "cell_type": "code",
   "execution_count": 187,
   "id": "8e715cdf-7832-4a45-a23b-036e98ef400d",
   "metadata": {},
   "outputs": [
    {
     "data": {
      "text/plain": [
       "array([[18, 85, 78],\n",
       "       [19, 92, 88],\n",
       "       [17, 76, 95],\n",
       "       [18, 65,  0],\n",
       "       [20, 90, 85]])"
      ]
     },
     "execution_count": 187,
     "metadata": {},
     "output_type": "execute_result"
    }
   ],
   "source": [
    "#Replace all Science marks < 75 with 0.\n",
    "data[data[:, 2] < 75, 2] = 0\n",
    "data"
   ]
  }
 ],
 "metadata": {
  "kernelspec": {
   "display_name": "Python 3 (ipykernel)",
   "language": "python",
   "name": "python3"
  },
  "language_info": {
   "codemirror_mode": {
    "name": "ipython",
    "version": 3
   },
   "file_extension": ".py",
   "mimetype": "text/x-python",
   "name": "python",
   "nbconvert_exporter": "python",
   "pygments_lexer": "ipython3",
   "version": "3.13.5"
  }
 },
 "nbformat": 4,
 "nbformat_minor": 5
}
