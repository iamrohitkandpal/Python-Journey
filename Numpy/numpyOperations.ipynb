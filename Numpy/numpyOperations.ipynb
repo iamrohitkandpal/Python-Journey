{
 "cells": [
  {
   "cell_type": "code",
   "execution_count": 1,
   "id": "c87db307",
   "metadata": {
    "vscode": {
     "languageId": "plaintext"
    }
   },
   "outputs": [],
   "source": [
    "import numpy as np"
   ]
  },
  {
   "cell_type": "markdown",
   "id": "780c3345",
   "metadata": {},
   "source": [
    "*****************************************\n",
    "**ARRAY OPERATION**\n",
    "*****************************************"
   ]
  },
  {
   "cell_type": "markdown",
   "id": "393bb9a3",
   "metadata": {},
   "source": [
    "*Arithmetic Operations*"
   ]
  },
  {
   "cell_type": "code",
   "execution_count": 4,
   "id": "bcdaab29",
   "metadata": {
    "vscode": {
     "languageId": "plaintext"
    }
   },
   "outputs": [
    {
     "data": {
      "text/plain": [
       "array([ 7,  9, 11, 13, 15])"
      ]
     },
     "execution_count": 4,
     "metadata": {},
     "output_type": "execute_result"
    }
   ],
   "source": [
    "# Size of arrays must be same \n",
    "a1 = np.array([1,2,3,4,5])\n",
    "a2 = np.array([6,7,8,9,10])\n",
    "a1 + a2"
   ]
  },
  {
   "cell_type": "code",
   "execution_count": 5,
   "id": "256704ef",
   "metadata": {
    "vscode": {
     "languageId": "plaintext"
    }
   },
   "outputs": [
    {
     "data": {
      "text/plain": [
       "array([-5, -5, -5, -5, -5])"
      ]
     },
     "execution_count": 5,
     "metadata": {},
     "output_type": "execute_result"
    }
   ],
   "source": [
    "a1 - a2"
   ]
  },
  {
   "cell_type": "code",
   "execution_count": 6,
   "id": "3c697b50",
   "metadata": {
    "vscode": {
     "languageId": "plaintext"
    }
   },
   "outputs": [
    {
     "data": {
      "text/plain": [
       "array([6.        , 3.5       , 2.66666667, 2.25      , 2.        ])"
      ]
     },
     "execution_count": 6,
     "metadata": {},
     "output_type": "execute_result"
    }
   ],
   "source": [
    "a2 / a1"
   ]
  },
  {
   "cell_type": "code",
   "execution_count": 7,
   "id": "68236e42-0273-4ccd-89a7-6055e6b888ab",
   "metadata": {},
   "outputs": [
    {
     "data": {
      "text/plain": [
       "array([      1,     128,    6561,  262144, 9765625])"
      ]
     },
     "execution_count": 7,
     "metadata": {},
     "output_type": "execute_result"
    }
   ],
   "source": [
    "a1 ** a2"
   ]
  },
  {
   "cell_type": "markdown",
   "id": "e4069a2a-f885-43cd-94d8-31d1f09bd8bc",
   "metadata": {},
   "source": [
    "*Array Broacasting*"
   ]
  },
  {
   "cell_type": "code",
   "execution_count": 8,
   "id": "f7a7c677-5e56-4a2c-84ef-e798ef74f7ab",
   "metadata": {},
   "outputs": [
    {
     "data": {
      "text/plain": [
       "array([20, 30, 40, 50])"
      ]
     },
     "execution_count": 8,
     "metadata": {},
     "output_type": "execute_result"
    }
   ],
   "source": [
    "l = [10,20,30,40]\n",
    "arr = np.array(l)\n",
    "arr + 10"
   ]
  },
  {
   "cell_type": "code",
   "execution_count": 9,
   "id": "be03f659",
   "metadata": {
    "vscode": {
     "languageId": "plaintext"
    }
   },
   "outputs": [
    {
     "data": {
      "text/plain": [
       "array([[11, 12, 13, 14, 15],\n",
       "       [16, 17, 18, 19, 20],\n",
       "       [21, 22, 23, 24, 25],\n",
       "       [26, 27, 28, 29, 30],\n",
       "       [31, 32, 33, 34, 35]])"
      ]
     },
     "execution_count": 9,
     "metadata": {},
     "output_type": "execute_result"
    }
   ],
   "source": [
    "arr2 = np.arange(1,26).reshape(5,5)\n",
    "arr2 + 10"
   ]
  },
  {
   "cell_type": "markdown",
   "id": "eb29f4a3-0aba-4aa9-ad3f-eff098bde51a",
   "metadata": {},
   "source": [
    "*Deep & Shallow Copy*"
   ]
  },
  {
   "cell_type": "code",
   "execution_count": 18,
   "id": "8fe6d3ab-fd15-4fa9-a94d-d39a3b351d68",
   "metadata": {},
   "outputs": [
    {
     "data": {
      "text/plain": [
       "array([ 1,  2,  3,  4,  5,  6,  7,  8,  9, 10, 11, 12, 13, 14, 15, 16, 17,\n",
       "       18, 19])"
      ]
     },
     "execution_count": 18,
     "metadata": {},
     "output_type": "execute_result"
    }
   ],
   "source": [
    "a = np.arange(1,20)\n",
    "a"
   ]
  },
  {
   "cell_type": "code",
   "execution_count": 19,
   "id": "895c7ab0-4944-4a19-8067-fcfa6b4a80ff",
   "metadata": {},
   "outputs": [
    {
     "data": {
      "text/plain": [
       "array([10, 20, 30, 40, 50])"
      ]
     },
     "execution_count": 19,
     "metadata": {},
     "output_type": "execute_result"
    }
   ],
   "source": [
    "slice = a[:5]\n",
    "slice = slice * 10\n",
    "slice"
   ]
  },
  {
   "cell_type": "code",
   "execution_count": 20,
   "id": "09ade564-f3f8-46c8-895b-110ec9173dec",
   "metadata": {},
   "outputs": [
    {
     "data": {
      "text/plain": [
       "array([ 1,  2,  3,  4,  5,  6,  7,  8,  9, 10, 11, 12, 13, 14, 15, 16, 17,\n",
       "       18, 19])"
      ]
     },
     "execution_count": 20,
     "metadata": {},
     "output_type": "execute_result"
    }
   ],
   "source": [
    "a"
   ]
  },
  {
   "cell_type": "code",
   "execution_count": 21,
   "id": "27b3363c-ef8c-49d6-adec-942bf1aa2172",
   "metadata": {},
   "outputs": [
    {
     "data": {
      "text/plain": [
       "array([99,  2,  3,  4,  5,  6,  7,  8,  9, 10, 11, 12, 13, 14, 15, 16, 17,\n",
       "       18, 19])"
      ]
     },
     "execution_count": 21,
     "metadata": {},
     "output_type": "execute_result"
    }
   ],
   "source": [
    "b = a        # Use .copy() for deep copy \n",
    "b[0] = 99\n",
    "b"
   ]
  },
  {
   "cell_type": "code",
   "execution_count": 22,
   "id": "c1e543e0-ff91-4a23-a302-05ce25f5dae6",
   "metadata": {},
   "outputs": [
    {
     "data": {
      "text/plain": [
       "array([99,  2,  3,  4,  5,  6,  7,  8,  9, 10, 11, 12, 13, 14, 15, 16, 17,\n",
       "       18, 19])"
      ]
     },
     "execution_count": 22,
     "metadata": {},
     "output_type": "execute_result"
    }
   ],
   "source": [
    "a            # A shallow copy"
   ]
  },
  {
   "cell_type": "markdown",
   "id": "f7dee797",
   "metadata": {},
   "source": [
    "*Matrix Operations*"
   ]
  },
  {
   "cell_type": "code",
   "execution_count": 24,
   "id": "8448f232-3199-4040-a9be-a7cc4d959762",
   "metadata": {},
   "outputs": [],
   "source": [
    "mat1 = np.array([[1,2], [3,4]])\n",
    "mat2 = np.array([[5,6], [7,8]])"
   ]
  },
  {
   "cell_type": "code",
   "execution_count": 25,
   "id": "673d1c58-17b8-4450-924d-f461bf1842f4",
   "metadata": {},
   "outputs": [
    {
     "data": {
      "text/plain": [
       "array([[1, 2],\n",
       "       [3, 4]])"
      ]
     },
     "execution_count": 25,
     "metadata": {},
     "output_type": "execute_result"
    }
   ],
   "source": [
    "mat1"
   ]
  },
  {
   "cell_type": "code",
   "execution_count": 26,
   "id": "8bab380f-d65a-401b-b66f-9686942a3f47",
   "metadata": {},
   "outputs": [
    {
     "data": {
      "text/plain": [
       "array([[5, 6],\n",
       "       [7, 8]])"
      ]
     },
     "execution_count": 26,
     "metadata": {},
     "output_type": "execute_result"
    }
   ],
   "source": [
    "mat2"
   ]
  },
  {
   "cell_type": "code",
   "execution_count": 28,
   "id": "7bc0064a-2c80-4a3e-98b3-95464210fcc3",
   "metadata": {},
   "outputs": [
    {
     "data": {
      "text/plain": [
       "array([[19, 22],\n",
       "       [43, 50]])"
      ]
     },
     "execution_count": 28,
     "metadata": {},
     "output_type": "execute_result"
    }
   ],
   "source": [
    "np.dot(mat1, mat2)"
   ]
  },
  {
   "cell_type": "code",
   "execution_count": 29,
   "id": "44bafd07-6adb-42c1-a1f3-76fd814605c0",
   "metadata": {},
   "outputs": [
    {
     "data": {
      "text/plain": [
       "array([[1, 3],\n",
       "       [2, 4]])"
      ]
     },
     "execution_count": 29,
     "metadata": {},
     "output_type": "execute_result"
    }
   ],
   "source": [
    "mat1.T"
   ]
  },
  {
   "cell_type": "markdown",
   "id": "7640626c",
   "metadata": {},
   "source": [
    "*****************************************\n",
    "**ADVANCE ARRAY MANIPULATION**\n",
    "*****************************************"
   ]
  },
  {
   "cell_type": "markdown",
   "id": "a658ae11",
   "metadata": {},
   "source": [
    "*Stacking Array*"
   ]
  },
  {
   "cell_type": "code",
   "execution_count": 31,
   "id": "7787989f-07d6-42c3-9e3a-3fd5587d81d3",
   "metadata": {},
   "outputs": [],
   "source": [
    "a = np.array([1,2,3,4])\n",
    "b = np.array([5,6,7,8])"
   ]
  },
  {
   "cell_type": "code",
   "execution_count": 32,
   "id": "02ab87c3-56a3-4776-87bc-e71545523233",
   "metadata": {},
   "outputs": [
    {
     "data": {
      "text/plain": [
       "array([[1, 2, 3, 4],\n",
       "       [5, 6, 7, 8]])"
      ]
     },
     "execution_count": 32,
     "metadata": {},
     "output_type": "execute_result"
    }
   ],
   "source": [
    "np.vstack((a, b))"
   ]
  },
  {
   "cell_type": "code",
   "execution_count": 34,
   "id": "55320500-9764-476f-a114-dde98805aa93",
   "metadata": {},
   "outputs": [
    {
     "data": {
      "text/plain": [
       "array([1, 2, 3, 4, 5, 6, 7, 8])"
      ]
     },
     "execution_count": 34,
     "metadata": {},
     "output_type": "execute_result"
    }
   ],
   "source": [
    "np.hstack((a, b))"
   ]
  },
  {
   "cell_type": "code",
   "execution_count": 35,
   "id": "f6e36561-9351-4060-b295-c5d1fec5ac37",
   "metadata": {},
   "outputs": [
    {
     "data": {
      "text/plain": [
       "array([[1, 5],\n",
       "       [2, 6],\n",
       "       [3, 7],\n",
       "       [4, 8]])"
      ]
     },
     "execution_count": 35,
     "metadata": {},
     "output_type": "execute_result"
    }
   ],
   "source": [
    "np.column_stack((a, b))"
   ]
  },
  {
   "cell_type": "markdown",
   "id": "f18ff682",
   "metadata": {},
   "source": [
    "*Splitting Array*"
   ]
  },
  {
   "cell_type": "code",
   "execution_count": 44,
   "id": "3fe2e161-1f3b-4456-b870-a656c2fe9a19",
   "metadata": {},
   "outputs": [
    {
     "data": {
      "text/plain": [
       "array([[ 0,  1,  2,  3],\n",
       "       [ 4,  5,  6,  7],\n",
       "       [ 8,  9, 10, 11],\n",
       "       [12, 13, 14, 15]])"
      ]
     },
     "execution_count": 44,
     "metadata": {},
     "output_type": "execute_result"
    }
   ],
   "source": [
    "c = np.arange(16).reshape(4,4)\n",
    "c"
   ]
  },
  {
   "cell_type": "code",
   "execution_count": 48,
   "id": "6d6562dd-cbae-447b-9fa2-687e322aff3b",
   "metadata": {},
   "outputs": [
    {
     "data": {
      "text/plain": [
       "[array([[ 0,  1],\n",
       "        [ 4,  5],\n",
       "        [ 8,  9],\n",
       "        [12, 13]]),\n",
       " array([[ 2,  3],\n",
       "        [ 6,  7],\n",
       "        [10, 11],\n",
       "        [14, 15]])]"
      ]
     },
     "execution_count": 48,
     "metadata": {},
     "output_type": "execute_result"
    }
   ],
   "source": [
    "np.hsplit(c, 2)"
   ]
  },
  {
   "cell_type": "code",
   "execution_count": 49,
   "id": "bfa182aa-5eeb-4475-be33-9c9ff4d592db",
   "metadata": {},
   "outputs": [
    {
     "data": {
      "text/plain": [
       "[array([[0, 1, 2, 3]]),\n",
       " array([[4, 5, 6, 7]]),\n",
       " array([[ 8,  9, 10, 11]]),\n",
       " array([[12, 13, 14, 15]])]"
      ]
     },
     "execution_count": 49,
     "metadata": {},
     "output_type": "execute_result"
    }
   ],
   "source": [
    "np.vsplit(c, 4)"
   ]
  },
  {
   "cell_type": "code",
   "execution_count": null,
   "id": "f17b5a61-e099-46bf-bd41-d57521dfc41d",
   "metadata": {},
   "outputs": [],
   "source": []
  }
 ],
 "metadata": {
  "kernelspec": {
   "display_name": "",
   "name": ""
  },
  "language_info": {
   "name": "python"
  }
 },
 "nbformat": 4,
 "nbformat_minor": 5
}
