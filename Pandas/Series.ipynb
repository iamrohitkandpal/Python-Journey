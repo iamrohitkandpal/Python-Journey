{
 "cells": [
  {
   "attachments": {},
   "cell_type": "markdown",
   "id": "8ddce3ed-00d2-4fe1-8ce1-f206555a319d",
   "metadata": {},
   "source": [
    "****************\n",
    "**Pandas Series**\n",
    "****************\n",
    "\n",
    "A Series is a one-dimensional Labelled array capable of holding any data type. The Axis labels are collectively called index."
   ]
  },
  {
   "attachments": {},
   "cell_type": "markdown",
   "id": "f34262d1-742d-4472-b8c7-b0caa955d070",
   "metadata": {},
   "source": [
    "****************\n",
    "**Creating Series**\n",
    "****************\n",
    "\n",
    "There are multiple ways to create a Pandas series:"
   ]
  },
  {
   "cell_type": "code",
   "execution_count": 9,
   "id": "87d7438e-4e0c-43b5-bf13-23fa19276b4c",
   "metadata": {},
   "outputs": [],
   "source": [
    "import numpy as np\n",
    "import pandas as pd"
   ]
  },
  {
   "cell_type": "code",
   "execution_count": 10,
   "id": "395f3a83-4273-4af0-9b96-8c15af0aa992",
   "metadata": {},
   "outputs": [],
   "source": [
    "labels = ['a', 'b', 'c']\n",
    "myList = [10, 20, 30]\n",
    "myArray = np.array([10, 20, 30])\n",
    "d = {1:10, 2:20, 3:30}"
   ]
  },
  {
   "cell_type": "code",
   "execution_count": 11,
   "id": "78f2c831-885b-4bfe-b6fc-33d55b20105a",
   "metadata": {},
   "outputs": [
    {
     "data": {
      "text/plain": [
       "0    10\n",
       "1    20\n",
       "2    30\n",
       "dtype: int64"
      ]
     },
     "execution_count": 11,
     "metadata": {},
     "output_type": "execute_result"
    }
   ],
   "source": [
    "pd.Series(myList)"
   ]
  },
  {
   "cell_type": "code",
   "execution_count": 12,
   "id": "15eabedd-51e4-4214-a307-1c4a7a06efd8",
   "metadata": {},
   "outputs": [
    {
     "data": {
      "text/plain": [
       "a    10\n",
       "b    20\n",
       "c    30\n",
       "dtype: int64"
      ]
     },
     "execution_count": 12,
     "metadata": {},
     "output_type": "execute_result"
    }
   ],
   "source": [
    "pd.Series(myList, index=labels)"
   ]
  },
  {
   "cell_type": "code",
   "execution_count": 13,
   "id": "a72bb13d-49fa-465a-a0b7-4ba0895b7e1e",
   "metadata": {},
   "outputs": [
    {
     "data": {
      "text/plain": [
       "0    10\n",
       "1    20\n",
       "2    30\n",
       "dtype: int64"
      ]
     },
     "execution_count": 13,
     "metadata": {},
     "output_type": "execute_result"
    }
   ],
   "source": [
    "pd.Series(myArray)"
   ]
  },
  {
   "cell_type": "code",
   "execution_count": 14,
   "id": "100bcb39-da27-4ba6-9518-c5c2e0ceb269",
   "metadata": {},
   "outputs": [
    {
     "data": {
      "text/plain": [
       "1    10\n",
       "2    20\n",
       "3    30\n",
       "dtype: int64"
      ]
     },
     "execution_count": 14,
     "metadata": {},
     "output_type": "execute_result"
    }
   ],
   "source": [
    "pd.Series(d)"
   ]
  }
 ],
 "metadata": {
  "kernelspec": {
   "display_name": "Python 3 (ipykernel)",
   "language": "python",
   "name": "python3"
  },
  "language_info": {
   "codemirror_mode": {
    "name": "ipython",
    "version": 3
   },
   "file_extension": ".py",
   "mimetype": "text/x-python",
   "name": "python",
   "nbconvert_exporter": "python",
   "pygments_lexer": "ipython3",
   "version": "3.13.5"
  }
 },
 "nbformat": 4,
 "nbformat_minor": 5
}
