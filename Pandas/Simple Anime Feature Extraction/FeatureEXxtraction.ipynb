{
 "cells": [
  {
   "cell_type": "code",
   "execution_count": 1,
   "id": "72e0f87d-5108-43bd-a877-b9cd7cb9c19c",
   "metadata": {},
   "outputs": [],
   "source": []
  },
  {
   "cell_type": "code",
   "execution_count": null,
   "id": "15e33a23",
   "metadata": {},
   "outputs": [],
   "source": [
    "import pandas as pd\n",
    "\n",
    "def extract_anime_features(csv_file):\n",
    "    \"\"\"\n",
    "    Reads an anime CSV file and extracts useful features for analysis.\n",
    "\n",
    "    Parameters:\n",
    "        csv_file (str): Path to the anime CSV file.\n",
    "\n",
    "    Returns:\n",
    "        pd.DataFrame: DataFrame with extracted features.\n",
    "    \"\"\"\n",
    "    df = pd.read_csv(csv_file)\n",
    "\n",
    "    # Example feature extraction:\n",
    "    # - Fill missing values\n",
    "    # - Convert airing dates to datetime\n",
    "    # - Extract year from airing date\n",
    "    # - Encode categorical columns\n",
    "\n",
    "    if 'aired' in df.columns:\n",
    "        df['aired'] = pd.to_datetime(df['aired'], errors='coerce')\n",
    "        df['year'] = df['aired'].dt.year\n",
    "\n",
    "    if 'genre' in df.columns:\n",
    "        df['genre_list'] = df['genre'].fillna('').apply(lambda x: x.split(', ') if x else [])\n",
    "\n",
    "    if 'type' in df.columns:\n",
    "        df['type_encoded'] = df['type'].astype('category').cat.codes\n",
    "\n",
    "    # Fill missing numerical values with median\n",
    "    num_cols = df.select_dtypes(include='number').columns\n",
    "    for col in num_cols:\n",
    "        df[col] = df[col].fillna(df[col].median())\n",
    "\n",
    "    return df"
   ]
  },
  {
   "cell_type": "code",
   "execution_count": null,
   "id": "b129f891-129b-49e5-8bc8-fa142bdf7417",
   "metadata": {},
   "outputs": [],
   "source": []
  },
  {
   "cell_type": "code",
   "execution_count": null,
   "id": "b6b339ac-767b-426b-834c-c6b0d23cef60",
   "metadata": {},
   "outputs": [],
   "source": []
  },
  {
   "cell_type": "code",
   "execution_count": null,
   "id": "af40f898-9794-40c3-80e7-4e0f2403b6a3",
   "metadata": {},
   "outputs": [],
   "source": []
  }
 ],
 "metadata": {
  "kernelspec": {
   "display_name": "Python 3 (ipykernel)",
   "language": "python",
   "name": "python3"
  },
  "language_info": {
   "codemirror_mode": {
    "name": "ipython",
    "version": 3
   },
   "file_extension": ".py",
   "mimetype": "text/x-python",
   "name": "python",
   "nbconvert_exporter": "python",
   "pygments_lexer": "ipython3",
   "version": "3.13.5"
  }
 },
 "nbformat": 4,
 "nbformat_minor": 5
}
